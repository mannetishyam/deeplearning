{
 "cells": [
  {
   "attachments": {},
   "cell_type": "markdown",
   "metadata": {},
   "source": [
    "# Logistic Regression"
   ]
  },
  {
   "cell_type": "code",
   "execution_count": 7,
   "metadata": {},
   "outputs": [],
   "source": [
    "import torch\n",
    "import torch.nn as nn\n",
    "import numpy as np\n",
    "from sklearn import datasets\n",
    "from sklearn.preprocessing import StandardScaler\n",
    "from sklearn.model_selection import train_test_split"
   ]
  },
  {
   "cell_type": "code",
   "execution_count": 8,
   "metadata": {},
   "outputs": [
    {
     "name": "stdout",
     "output_type": "stream",
     "text": [
      "[[1.288e+01 1.822e+01 8.445e+01 ... 1.096e-01 2.582e-01 8.893e-02]\n",
      " [1.113e+01 2.244e+01 7.149e+01 ... 6.413e-02 3.169e-01 8.032e-02]\n",
      " [1.263e+01 2.076e+01 8.215e+01 ... 1.105e-01 2.226e-01 8.486e-02]\n",
      " ...\n",
      " [1.247e+01 1.860e+01 8.109e+01 ... 1.015e-01 3.014e-01 8.750e-02]\n",
      " [1.822e+01 1.870e+01 1.203e+02 ... 1.325e-01 3.021e-01 7.987e-02]\n",
      " [1.272e+01 1.378e+01 8.178e+01 ... 6.343e-02 2.369e-01 6.922e-02]]\n",
      "[[-0.36180827 -0.26521011 -0.31715702 ... -0.07967528 -0.52798733\n",
      "   0.2506337 ]\n",
      " [-0.8632675   0.71560604 -0.85646012 ... -0.76980239  0.44312729\n",
      "  -0.20987332]\n",
      " [-0.4334453   0.32513895 -0.41286667 ... -0.06601541 -1.1169427\n",
      "   0.0329492 ]\n",
      " ...\n",
      " [-0.479293   -0.17689018 -0.45697634 ... -0.20261414  0.18670009\n",
      "   0.17414996]\n",
      " [ 1.16835876 -0.15364809  1.17466524 ...  0.26789258  0.19828067\n",
      "  -0.23394164]\n",
      " [-0.40765597 -1.29715887 -0.42826344 ... -0.78042674 -0.88036793\n",
      "  -0.80355834]]\n"
     ]
    }
   ],
   "source": [
    "# 0) prepare data\n",
    "\n",
    "bc = datasets.load_breast_cancer()\n",
    "X, y = bc.data, bc.target\n",
    "\n",
    "n_samples, n_features = X.shape\n",
    "\n",
    "# split\n",
    "X_train, X_test, y_train, y_test = train_test_split(\n",
    "    X, y, test_size=0.2, random_state=1234)\n",
    "\n",
    "# scale\n",
    "sc = StandardScaler()\n",
    "X_train = sc.fit_transform(X_train)\n",
    "X_test = sc.fit_transform(X_test)\n",
    "\n",
    "# change to torch\n",
    "X_train = torch.from_numpy(X_train.astype(np.float32))\n",
    "X_test = torch.from_numpy(X_test.astype(np.float32))\n",
    "y_train = torch.from_numpy(y_train.astype(np.float32))\n",
    "y_test = torch.from_numpy(y_test.astype(np.float32))\n",
    "\n",
    "# reshape\n",
    "y_train = y_train.view(-1, 1)\n",
    "y_test = y_test.view(-1, 1)\n"
   ]
  },
  {
   "cell_type": "code",
   "execution_count": 9,
   "metadata": {},
   "outputs": [],
   "source": [
    "# 1) model\n",
    "\n",
    "# f= wx + b -> sigmoid\n",
    "class LogisticRegression1(nn.Module):\n",
    "    def __init__(self, n_input_features):\n",
    "        super(LogisticRegression1, self).__init__()\n",
    "        self.Linear = nn.Linear(n_input_features, 1)\n",
    "\n",
    "    def forward(self, x):\n",
    "        y_predicted = torch.sigmoid(self.Linear(x))\n",
    "        return y_predicted\n",
    "\n",
    "\n",
    "model = LogisticRegression1(n_features)\n"
   ]
  },
  {
   "cell_type": "code",
   "execution_count": 10,
   "metadata": {},
   "outputs": [],
   "source": [
    "# 2) loss and optimizer\n",
    "learning_rate = 0.01\n",
    "\n",
    "criterion = nn.BCELoss()\n",
    "optimizer = torch.optim.SGD(model.parameters(), lr=learning_rate)\n"
   ]
  },
  {
   "cell_type": "code",
   "execution_count": 11,
   "metadata": {},
   "outputs": [
    {
     "name": "stdout",
     "output_type": "stream",
     "text": [
      "epoch 10: loss = 0.5185\n",
      "epoch 20: loss = 0.4485\n",
      "epoch 30: loss = 0.3993\n",
      "epoch 40: loss = 0.3625\n",
      "epoch 50: loss = 0.3339\n",
      "epoch 60: loss = 0.3108\n",
      "epoch 70: loss = 0.2917\n",
      "epoch 80: loss = 0.2757\n",
      "epoch 90: loss = 0.2619\n",
      "epoch 100: loss = 0.2500\n"
     ]
    }
   ],
   "source": [
    "# 3) training loop\n",
    "num_epoch = 100\n",
    "\n",
    "for epoch in range(num_epoch):\n",
    "    # forward pass and loss\n",
    "    y_pred = model(X_train)\n",
    "    loss = criterion(y_pred, y_train)\n",
    "\n",
    "    # backward pass\n",
    "    loss.backward()\n",
    "\n",
    "    # update\n",
    "    optimizer.step()\n",
    "    optimizer.zero_grad()\n",
    "\n",
    "    if (epoch+1) % 10 == 0:\n",
    "        print(f'epoch {epoch+1}: loss = {loss.item():.4f}')\n"
   ]
  },
  {
   "cell_type": "code",
   "execution_count": 12,
   "metadata": {},
   "outputs": [
    {
     "name": "stdout",
     "output_type": "stream",
     "text": [
      "Accuracy: 0.8772\n"
     ]
    }
   ],
   "source": [
    "# 4) predict and results\n",
    "with torch.no_grad():\n",
    "    y_predicted = model(X_test)\n",
    "    y_predicted_cls = y_predicted.round()\n",
    "    acc = y_predicted_cls.eq(y_test).sum()/float(y_test.shape[0])\n",
    "    print(f'Accuracy: {acc:.4f}')\n"
   ]
  }
 ],
 "metadata": {
  "kernelspec": {
   "display_name": "mlenv",
   "language": "python",
   "name": "python3"
  },
  "language_info": {
   "codemirror_mode": {
    "name": "ipython",
    "version": 3
   },
   "file_extension": ".py",
   "mimetype": "text/x-python",
   "name": "python",
   "nbconvert_exporter": "python",
   "pygments_lexer": "ipython3",
   "version": "3.9.2"
  },
  "orig_nbformat": 4
 },
 "nbformat": 4,
 "nbformat_minor": 2
}
