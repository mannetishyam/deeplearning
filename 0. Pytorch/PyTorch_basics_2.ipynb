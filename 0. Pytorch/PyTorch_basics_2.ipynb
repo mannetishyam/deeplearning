{
 "cells": [
  {
   "attachments": {},
   "cell_type": "markdown",
   "metadata": {},
   "source": [
    "# Basic PyTorch Commands"
   ]
  },
  {
   "cell_type": "code",
   "execution_count": 82,
   "metadata": {},
   "outputs": [],
   "source": [
    "import torch\n"
   ]
  },
  {
   "cell_type": "code",
   "execution_count": 83,
   "metadata": {},
   "outputs": [
    {
     "name": "stdout",
     "output_type": "stream",
     "text": [
      "tensor([[0., 0., 0.],\n",
      "        [0., 0., 0.]])\n"
     ]
    }
   ],
   "source": [
    "x1 = torch.empty(2, 3)\n",
    "print(x1)\n"
   ]
  },
  {
   "cell_type": "code",
   "execution_count": 84,
   "metadata": {},
   "outputs": [
    {
     "name": "stdout",
     "output_type": "stream",
     "text": [
      "tensor([[0.1299, 0.2982, 0.4852, 0.4762, 0.5174]])\n"
     ]
    }
   ],
   "source": [
    "x2 = torch.rand(1, 5)\n",
    "print(x2)\n"
   ]
  },
  {
   "cell_type": "code",
   "execution_count": 85,
   "metadata": {},
   "outputs": [
    {
     "name": "stdout",
     "output_type": "stream",
     "text": [
      "tensor([[1, 1, 1, 1],\n",
      "        [1, 1, 1, 1],\n",
      "        [1, 1, 1, 1]])\n"
     ]
    }
   ],
   "source": [
    "x3 = torch.ones(3, 4, dtype=torch.int64)\n",
    "print(x3)\n"
   ]
  },
  {
   "cell_type": "code",
   "execution_count": 86,
   "metadata": {},
   "outputs": [
    {
     "name": "stdout",
     "output_type": "stream",
     "text": [
      "torch.Size([2, 3])\n"
     ]
    }
   ],
   "source": [
    "print(x1.size())\n"
   ]
  },
  {
   "cell_type": "code",
   "execution_count": 87,
   "metadata": {},
   "outputs": [
    {
     "name": "stdout",
     "output_type": "stream",
     "text": [
      "tensor([[1., 1., 1.],\n",
      "        [1., 1., 1.],\n",
      "        [1., 1., 1.]])\n"
     ]
    }
   ],
   "source": [
    "x = torch.ones(3, 3)\n",
    "y = torch.zeros(3, 3)\n",
    "z = x+y\n",
    "print(z)\n"
   ]
  },
  {
   "cell_type": "code",
   "execution_count": 88,
   "metadata": {},
   "outputs": [
    {
     "name": "stdout",
     "output_type": "stream",
     "text": [
      "tensor([[1., 1., 1.],\n",
      "        [1., 1., 1.],\n",
      "        [1., 1., 1.]])\n",
      "tensor([[2., 2., 2.],\n",
      "        [2., 2., 2.],\n",
      "        [2., 2., 2.]])\n"
     ]
    }
   ],
   "source": [
    "y.add_(x)  # matrix addition\n",
    "print(y)\n",
    "\n",
    "print(y+1)  # scalar added to every element\n"
   ]
  },
  {
   "cell_type": "code",
   "execution_count": 90,
   "metadata": {},
   "outputs": [
    {
     "name": "stdout",
     "output_type": "stream",
     "text": [
      "tensor([[10, 10, 10],\n",
      "        [10, 10, 10],\n",
      "        [10, 10, 10]])\n",
      "tensor([[30, 30, 30],\n",
      "        [30, 30, 30],\n",
      "        [30, 30, 30]])\n"
     ]
    }
   ],
   "source": [
    "x = torch.full((3, 3), 2)\n",
    "y = torch.full((3, 3), 5)\n",
    "\n",
    "z1 = x*y  # Not matrix mutliplication but multiplies each element\n",
    "print(z1)\n",
    "\n",
    "z2 = torch.mm(x, y)  # Matrix multiplication\n",
    "print(z2)\n"
   ]
  },
  {
   "cell_type": "code",
   "execution_count": 99,
   "metadata": {},
   "outputs": [
    {
     "name": "stdout",
     "output_type": "stream",
     "text": [
      "tensor([[0.7752, 0.8597, 0.1997],\n",
      "        [0.1481, 0.1694, 0.1882],\n",
      "        [0.7611, 0.2670, 0.3894],\n",
      "        [0.4922, 0.5728, 0.7434],\n",
      "        [0.1110, 0.3093, 0.2084]])\n",
      "tensor([0.1997, 0.1882, 0.3894, 0.7434, 0.2084])\n",
      "tensor([[0.7752, 0.8597]])\n",
      "0.16938704252243042\n"
     ]
    }
   ],
   "source": [
    "x = torch.rand(5, 3)\n",
    "print(x)\n",
    "print(x[:, 2])\n",
    "print(x[:1, :2])\n",
    "print(x[1, 1].item())\n"
   ]
  },
  {
   "cell_type": "code",
   "execution_count": 105,
   "metadata": {},
   "outputs": [
    {
     "name": "stdout",
     "output_type": "stream",
     "text": [
      "tensor([0.1019, 0.4836, 0.7728, 0.3683, 0.6798, 0.0398, 0.6978, 0.9623, 0.0132,\n",
      "        0.0711, 0.4098, 0.2881, 0.4993, 0.0359, 0.0019, 0.9373])\n",
      "tensor([[0.1019, 0.4836, 0.7728, 0.3683],\n",
      "        [0.6798, 0.0398, 0.6978, 0.9623],\n",
      "        [0.0132, 0.0711, 0.4098, 0.2881],\n",
      "        [0.4993, 0.0359, 0.0019, 0.9373]])\n"
     ]
    }
   ],
   "source": [
    "x = torch.rand(4, 4)\n",
    "y1 = x.view(16)\n",
    "print(y1)\n",
    "\n",
    "y2 = x.view(-1, 4) # -1 argument means \"infer this dimension automatically based on the other dimensions and the total number of elements in the tensor\"\n",
    "print(y2)\n"
   ]
  },
  {
   "cell_type": "code",
   "execution_count": 108,
   "metadata": {},
   "outputs": [
    {
     "name": "stdout",
     "output_type": "stream",
     "text": [
      "tensor([1., 1., 1., 1., 1.], requires_grad=True)\n"
     ]
    }
   ],
   "source": [
    "x = torch.ones(5, requires_grad=True) # If you want to optmize the parameter with gradients\n",
    "print(x)"
   ]
  }
 ],
 "metadata": {
  "kernelspec": {
   "display_name": "mlenv",
   "language": "python",
   "name": "python3"
  },
  "language_info": {
   "codemirror_mode": {
    "name": "ipython",
    "version": 3
   },
   "file_extension": ".py",
   "mimetype": "text/x-python",
   "name": "python",
   "nbconvert_exporter": "python",
   "pygments_lexer": "ipython3",
   "version": "3.9.2"
  },
  "orig_nbformat": 4
 },
 "nbformat": 4,
 "nbformat_minor": 2
}
